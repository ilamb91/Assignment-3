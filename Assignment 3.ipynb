{
 "cells": [
  {
   "cell_type": "markdown",
   "id": "43da5936-fe4d-4579-92e1-b59c18a0a5c2",
   "metadata": {},
   "source": [
    "Q1. Which keyword is used to create a function? Create a function to return a list of odd numbers in the\n",
    "range of 1 to 25."
   ]
  },
  {
   "cell_type": "markdown",
   "id": "89342d85-05fc-4267-a57a-5bd64ede4135",
   "metadata": {},
   "source": [
    "A1. - The \"def\" keyword is used to create, (or define) a function."
   ]
  },
  {
   "cell_type": "markdown",
   "id": "0109d6cb-ccfa-428c-b5e6-1ecb1189043c",
   "metadata": {},
   "source": [
    "Create a function to return a list of odd numbers in the range of 1 to 25."
   ]
  },
  {
   "cell_type": "code",
   "execution_count": 9,
   "id": "c9c37cae-143e-4462-aa42-f603e519768d",
   "metadata": {},
   "outputs": [],
   "source": [
    "def odd_numbers(n):\n",
    "    return [x for x in range(n + 1) if x % 2 == 1]"
   ]
  },
  {
   "cell_type": "code",
   "execution_count": 11,
   "id": "be62f916-004d-44dd-b350-080e822e66fc",
   "metadata": {},
   "outputs": [
    {
     "name": "stdout",
     "output_type": "stream",
     "text": [
      "[1, 3, 5, 7, 9, 11, 13, 15, 17, 19, 21, 23, 25]\n"
     ]
    }
   ],
   "source": [
    "print (odd_numbers (25))"
   ]
  },
  {
   "cell_type": "markdown",
   "id": "964ef641-7f9e-4724-bb17-d80cd6d68a02",
   "metadata": {},
   "source": [
    "Q2. Why *args and **kwargs is used in some functions? Create a function each for *args and **kwargs\n",
    "to demonstrate their use."
   ]
  },
  {
   "cell_type": "markdown",
   "id": "78a2d3f1-f34b-405e-9f5b-58f3732ff4ae",
   "metadata": {},
   "source": [
    "A2. *args lets us pass functions a variable number of inputs that aren't keywords, but we can't use it to pass keywords. Keyword arguments have a key and a value, like a Python list. **kwargs lets us pass as many keyword arguments as we want."
   ]
  },
  {
   "cell_type": "markdown",
   "id": "8e15ad23-7188-46f5-9d53-78fc86d74f85",
   "metadata": {},
   "source": [
    "--> Function for *args"
   ]
  },
  {
   "cell_type": "code",
   "execution_count": 12,
   "id": "12e91cd7-8deb-4493-9c93-0473ac1555c0",
   "metadata": {},
   "outputs": [],
   "source": [
    "def test(*args):\n",
    "    return args"
   ]
  },
  {
   "cell_type": "code",
   "execution_count": 14,
   "id": "cf122a20-79eb-43b8-923b-711c7efd06d7",
   "metadata": {},
   "outputs": [
    {
     "data": {
      "text/plain": [
       "(1, 2, 3, 4, 5, 6, 7, 8, 9, 0)"
      ]
     },
     "execution_count": 14,
     "metadata": {},
     "output_type": "execute_result"
    }
   ],
   "source": [
    "test (1,2,3,4,5,6,7,8,9,0)"
   ]
  },
  {
   "cell_type": "markdown",
   "id": "41a8d860-b364-4866-8d49-23e4d29b622f",
   "metadata": {},
   "source": [
    "--> Function for **kwargs"
   ]
  },
  {
   "cell_type": "code",
   "execution_count": 15,
   "id": "35d6956b-4e4b-479b-b365-f36e9897d33c",
   "metadata": {},
   "outputs": [],
   "source": [
    "def test2(**kwargs):\n",
    "    return kwargs"
   ]
  },
  {
   "cell_type": "code",
   "execution_count": 17,
   "id": "222876c7-a6b1-40e2-8fc1-847cca847797",
   "metadata": {},
   "outputs": [
    {
     "data": {
      "text/plain": [
       "{'a': [1, 2, 3, 4], 'b': 'lamb', 'c': 'data science', 'd': 23.45}"
      ]
     },
     "execution_count": 17,
     "metadata": {},
     "output_type": "execute_result"
    }
   ],
   "source": [
    "test2 (a = [1,2,3,4], b = \"lamb\", c =  \"data science\", d = 23.45)"
   ]
  },
  {
   "cell_type": "markdown",
   "id": "87bed1fa-b468-4dc3-9c8c-21ae4a184ea8",
   "metadata": {},
   "source": [
    "Q3. What is an iterator in python? Name the method used to initialise the iterator object and the method\n",
    "used for iteration. Use these methods to print the first five elements of the given list [2, 4, 6, 8, 10, 12, 14,\n",
    "16, 18, 20]."
   ]
  },
  {
   "cell_type": "markdown",
   "id": "96976cf3-8905-4e3b-9d3b-74fecf5f2fd3",
   "metadata": {},
   "source": [
    "A3. An iterator is an object in Python that lets you go through data groups like lists, tuples, dictionaries, and sets."
   ]
  },
  {
   "cell_type": "markdown",
   "id": "9df7c2bd-00f7-4699-b3d4-859dafab8f55",
   "metadata": {},
   "source": [
    "--> Name the method used to initialise the iterator object and the method used for iteration."
   ]
  },
  {
   "cell_type": "markdown",
   "id": "97577df9-e0e2-4915-941f-c392ccf3b87a",
   "metadata": {},
   "source": [
    "\"iter()\" method is used to initialize the iterator object so that the instance of this object can be used for iterating."
   ]
  },
  {
   "cell_type": "code",
   "execution_count": 18,
   "id": "6adff6c7-ea7f-4f3d-9bc9-e0c31f246256",
   "metadata": {},
   "outputs": [],
   "source": [
    "a = \"lamb\""
   ]
  },
  {
   "cell_type": "code",
   "execution_count": 19,
   "id": "8f4b5285-8210-4839-9e28-e7ad9189adf2",
   "metadata": {},
   "outputs": [],
   "source": [
    "a1 = iter (a)"
   ]
  },
  {
   "cell_type": "code",
   "execution_count": 21,
   "id": "65fbeeaa-65c4-403a-acd4-53c157a94812",
   "metadata": {},
   "outputs": [
    {
     "data": {
      "text/plain": [
       "'l'"
      ]
     },
     "execution_count": 21,
     "metadata": {},
     "output_type": "execute_result"
    }
   ],
   "source": [
    "next (a1)"
   ]
  },
  {
   "cell_type": "code",
   "execution_count": 23,
   "id": "4ec8c9e9-bf47-411e-9a2b-6808d088e827",
   "metadata": {},
   "outputs": [
    {
     "data": {
      "text/plain": [
       "'a'"
      ]
     },
     "execution_count": 23,
     "metadata": {},
     "output_type": "execute_result"
    }
   ],
   "source": [
    "next (a1)"
   ]
  },
  {
   "cell_type": "code",
   "execution_count": 24,
   "id": "4d9797e5-cd74-4889-8b53-a2e3e10e3a8d",
   "metadata": {},
   "outputs": [
    {
     "data": {
      "text/plain": [
       "'m'"
      ]
     },
     "execution_count": 24,
     "metadata": {},
     "output_type": "execute_result"
    }
   ],
   "source": [
    "next (a1)"
   ]
  },
  {
   "cell_type": "code",
   "execution_count": 25,
   "id": "5938e45c-ed86-4d54-bf97-ce1e972a4a70",
   "metadata": {},
   "outputs": [
    {
     "data": {
      "text/plain": [
       "'b'"
      ]
     },
     "execution_count": 25,
     "metadata": {},
     "output_type": "execute_result"
    }
   ],
   "source": [
    "next (a1)"
   ]
  },
  {
   "cell_type": "markdown",
   "id": "470aec07-074b-4c08-bf02-f5ccf3bd41ef",
   "metadata": {},
   "source": [
    "Q4. What is a generator function in python? Why yield keyword is used? Give an example of a generator\n",
    "function."
   ]
  },
  {
   "cell_type": "markdown",
   "id": "208fe1b9-c97d-4fcf-8f91-6417a6b6b47a",
   "metadata": {},
   "source": [
    "A4. - A Python generator function allows you to declare a function that behaves like an iterator, providing a faster and easier way to create iterators."
   ]
  },
  {
   "cell_type": "markdown",
   "id": "f756d8d6-ee10-46c6-8ba8-092cf7c7aea5",
   "metadata": {},
   "source": [
    "--> Why yield keyword is used?"
   ]
  },
  {
   "cell_type": "markdown",
   "id": "8485f83f-768d-4673-a2dd-8a759700e99a",
   "metadata": {},
   "source": [
    "The yield keyword will turn any expression that is given with it into a generator object and return it to the caller."
   ]
  },
  {
   "cell_type": "markdown",
   "id": "e1441a73-0285-4a17-9436-daa9fdc844d3",
   "metadata": {},
   "source": [
    "--> Give an example of a generator function."
   ]
  },
  {
   "cell_type": "code",
   "execution_count": 30,
   "id": "3b078321-eeab-4f62-b100-ee128a95b705",
   "metadata": {},
   "outputs": [],
   "source": [
    "def count_test(n):\n",
    "    count = 2\n",
    "    while count <= n :\n",
    "        yield count\n",
    "        count = count + 2"
   ]
  },
  {
   "cell_type": "code",
   "execution_count": 34,
   "id": "c22e07a8-03ac-414a-ac05-2c9c8b4df3d5",
   "metadata": {},
   "outputs": [],
   "source": [
    "b = count_test(6)"
   ]
  },
  {
   "cell_type": "code",
   "execution_count": 35,
   "id": "fdec173e-0cb8-47a6-bbd5-ce5cffa8a616",
   "metadata": {},
   "outputs": [
    {
     "name": "stdout",
     "output_type": "stream",
     "text": [
      "1\n",
      "2\n",
      "3\n",
      "4\n",
      "5\n",
      "6\n"
     ]
    }
   ],
   "source": [
    "for i in b:\n",
    "    print(i)"
   ]
  },
  {
   "cell_type": "markdown",
   "id": "e49457eb-db72-4cc4-9a61-1944f85a470f",
   "metadata": {},
   "source": [
    "Q5. Create a generator function for prime numbers less than 1000. Use the next() method to print the\n",
    "first 20 prime numbers."
   ]
  },
  {
   "cell_type": "code",
   "execution_count": 41,
   "id": "0b65bc74-6f72-48cb-809d-a882a1b3f072",
   "metadata": {},
   "outputs": [
    {
     "name": "stdin",
     "output_type": "stream",
     "text": [
      "Enter the range:  100\n"
     ]
    },
    {
     "name": "stdout",
     "output_type": "stream",
     "text": [
      "2 3 5 7 11 13 17 19 23 29 31 37 41 43 47 53 59 61 67 71 73 79 83 89 97 "
     ]
    }
   ],
   "source": [
    "def Prime_seq(num):\n",
    "    for i in range(2,num):\n",
    "        if prime(i) == True:\n",
    "            print(i,end = \" \")\n",
    "        else:\n",
    "            pass\n",
    "num = int(input(\"Enter the range: \"))\n",
    "prime = lambda num: all( num%x != 0 for x in range(2, int(num**.5)+1) )\n",
    "Prime_seq(num)"
   ]
  },
  {
   "cell_type": "markdown",
   "id": "7241849d-ed51-4fbb-9e49-2d8aed32e5ed",
   "metadata": {},
   "source": [
    "Q6. Write a python program to print the first 10 Fibonacci numbers using a while loop."
   ]
  },
  {
   "cell_type": "code",
   "execution_count": 42,
   "id": "7ab61a57-1934-4f76-8494-0e500d624480",
   "metadata": {},
   "outputs": [],
   "source": [
    "def test_fib(n):\n",
    "    a,b = 0,1\n",
    "    for i in range(n):\n",
    "        yield a\n",
    "        a,b = b, a+b"
   ]
  },
  {
   "cell_type": "code",
   "execution_count": 43,
   "id": "942bd7f4-e481-43df-b8c4-179c3d2b52ea",
   "metadata": {},
   "outputs": [
    {
     "data": {
      "text/plain": [
       "<generator object test_fib at 0x7f38dd656030>"
      ]
     },
     "execution_count": 43,
     "metadata": {},
     "output_type": "execute_result"
    }
   ],
   "source": [
    "test_fib(10)"
   ]
  },
  {
   "cell_type": "code",
   "execution_count": 44,
   "id": "a39d829a-8661-492f-8c97-4fd59d380b6a",
   "metadata": {},
   "outputs": [
    {
     "name": "stdout",
     "output_type": "stream",
     "text": [
      "0\n",
      "1\n",
      "1\n",
      "2\n",
      "3\n",
      "5\n",
      "8\n",
      "13\n",
      "21\n",
      "34\n"
     ]
    }
   ],
   "source": [
    "for i in test_fib(10):\n",
    "    print(i)"
   ]
  },
  {
   "cell_type": "markdown",
   "id": "d68f2021-ffc7-4ecd-b929-1939933e92e7",
   "metadata": {},
   "source": [
    "Q7. Write a List Comprehension to iterate through the given string: ‘pwskills’.\n",
    "\n",
    "Expected output: ['p', 'w', 's', 'k', 'i', 'l', 'l', 's']"
   ]
  },
  {
   "cell_type": "code",
   "execution_count": 49,
   "id": "433ca69d-8654-42fb-a369-e559d451034e",
   "metadata": {},
   "outputs": [
    {
     "data": {
      "text/plain": [
       "['p', 'w', 's', 'k', 'i', 'l', 'l', 's']"
      ]
     },
     "execution_count": 49,
     "metadata": {},
     "output_type": "execute_result"
    }
   ],
   "source": [
    "b = \"pwskills\"\n",
    "list(map(lambda x: x, b))"
   ]
  },
  {
   "cell_type": "markdown",
   "id": "89a6e275-d2d8-4c43-80ee-dd419ee60257",
   "metadata": {},
   "source": [
    "Q8. Write a python program to check whether a given number is Palindrome or not using a while loop."
   ]
  },
  {
   "cell_type": "code",
   "execution_count": 55,
   "id": "cd23c526-8f67-419f-9691-103e52719982",
   "metadata": {},
   "outputs": [
    {
     "name": "stdin",
     "output_type": "stream",
     "text": [
      "Enter number: 12345\n"
     ]
    },
    {
     "name": "stdout",
     "output_type": "stream",
     "text": [
      "The number isn't a palindrome!\n"
     ]
    }
   ],
   "source": [
    "n=int(input(\"Enter number:\"))\n",
    "temp=n\n",
    "rev=0\n",
    "while(n>0):\n",
    "    dig=n%10\n",
    "    rev=rev*10+dig\n",
    "    n=n//10\n",
    "if(temp==rev):\n",
    "    print(\"The number is a palindrome!\")\n",
    "else:\n",
    "    print(\"The number isn't a palindrome!\")"
   ]
  },
  {
   "cell_type": "markdown",
   "id": "8e46074b-6959-4a14-b0bb-69f09bba0dac",
   "metadata": {},
   "source": [
    "Q9. Write a code to print odd numbers from 1 to 100 using list comprehension."
   ]
  },
  {
   "cell_type": "code",
   "execution_count": 56,
   "id": "20a2d939-4b2c-4c6b-bbdc-41cdf0264c4e",
   "metadata": {},
   "outputs": [],
   "source": [
    "d = [element for element in range(1, 101) if element % 2 == 1 ]"
   ]
  },
  {
   "cell_type": "code",
   "execution_count": 57,
   "id": "232ecdab-16f0-4b76-8c17-3cb4e22d66aa",
   "metadata": {},
   "outputs": [
    {
     "name": "stdout",
     "output_type": "stream",
     "text": [
      "[1, 3, 5, 7, 9, 11, 13, 15, 17, 19, 21, 23, 25, 27, 29, 31, 33, 35, 37, 39, 41, 43, 45, 47, 49, 51, 53, 55, 57, 59, 61, 63, 65, 67, 69, 71, 73, 75, 77, 79, 81, 83, 85, 87, 89, 91, 93, 95, 97, 99]\n"
     ]
    }
   ],
   "source": [
    "print (d)"
   ]
  },
  {
   "cell_type": "code",
   "execution_count": null,
   "id": "397266b1-0a5d-4b11-ad21-d25a6a31c070",
   "metadata": {},
   "outputs": [],
   "source": []
  }
 ],
 "metadata": {
  "kernelspec": {
   "display_name": "Python 3 (ipykernel)",
   "language": "python",
   "name": "python3"
  },
  "language_info": {
   "codemirror_mode": {
    "name": "ipython",
    "version": 3
   },
   "file_extension": ".py",
   "mimetype": "text/x-python",
   "name": "python",
   "nbconvert_exporter": "python",
   "pygments_lexer": "ipython3",
   "version": "3.10.8"
  }
 },
 "nbformat": 4,
 "nbformat_minor": 5
}
